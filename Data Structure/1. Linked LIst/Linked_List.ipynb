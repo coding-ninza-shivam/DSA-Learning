{
 "cells": [
  {
   "cell_type": "code",
   "execution_count": 1,
   "id": "965de27e",
   "metadata": {},
   "outputs": [],
   "source": [
    "class Node:\n",
    "    def __init__(self, value):\n",
    "        self.data=value\n",
    "        self.next=None\n",
    "\n",
    "first=Node(1)\n",
    "second=Node(2)\n",
    "third=Node(3)\n",
    "\n",
    "first.next=second\n",
    "second.next=third\n",
    "\n",
    "head=first"
   ]
  },
  {
   "cell_type": "code",
   "execution_count": 2,
   "id": "249b158e",
   "metadata": {},
   "outputs": [
    {
     "name": "stdout",
     "output_type": "stream",
     "text": [
      "1-->>2-->>3-->>"
     ]
    }
   ],
   "source": [
    "def print_LL(head):\n",
    "    temp=head\n",
    "    while(temp!=None):\n",
    "        print(temp.data,end='-->>')\n",
    "        temp=temp.next\n",
    "    return\n",
    "\n",
    "print_LL(head)"
   ]
  },
  {
   "cell_type": "code",
   "execution_count": 4,
   "id": "89fe096f",
   "metadata": {},
   "outputs": [],
   "source": [
    "def take_input():\n",
    "    value=int(input(\"Enter the value of Node(-1 to stop):- \"))\n",
    "    head=None\n",
    "    while(value!=-1):\n",
    "        new_node=Node(value)\n",
    "        if(head is None):\n",
    "            head=new_node\n",
    "        else:\n",
    "            temp=head\n",
    "            while(temp.next!=None):\n",
    "                temp=temp.next\n",
    "            temp.next=new_node\n",
    "        value=int(input(\"Enter the value of Node(-1 to stop):- \"))\n",
    "    return head"
   ]
  },
  {
   "cell_type": "code",
   "execution_count": 5,
   "id": "90e54fc9",
   "metadata": {},
   "outputs": [],
   "source": [
    "def take_input_better():\n",
    "    value=int(input(\"Enter the value of Node(-1 to stop):- \"))\n",
    "    head=None\n",
    "    tail=None\n",
    "    while(value!=-1):\n",
    "        new_node=Node(value)\n",
    "        if(head is None):\n",
    "            head=new_node\n",
    "            tail=new_node\n",
    "        else:\n",
    "            tail.next=new_node\n",
    "            tail=new_node\n",
    "        value=int(input(\"Enter the value of Node(-1 to stop):- \"))\n",
    "    return head"
   ]
  },
  {
   "cell_type": "code",
   "execution_count": null,
   "id": "9e55f4a7",
   "metadata": {},
   "outputs": [],
   "source": [
    "def lengthofLL(head):\n",
    "    temp=head \n",
    "    ans=0\n",
    "    while(temp!=None):\n",
    "        temp=temp.next\n",
    "        ans+=1\n",
    "    return ans\n"
   ]
  },
  {
   "cell_type": "code",
   "execution_count": 13,
   "id": "d7b28d0a",
   "metadata": {},
   "outputs": [],
   "source": [
    "def len_LL_recursive(head):\n",
    "    if(head==None):\n",
    "        return 0\n",
    "    recursive_small_answer=len_LL_recursive(head.next)\n",
    "    return 1+recursive_small_answer\n"
   ]
  },
  {
   "cell_type": "code",
   "execution_count": 15,
   "id": "6ae09b0d",
   "metadata": {},
   "outputs": [],
   "source": [
    "def insert_at_head(head):\n",
    "    data = int(input(\"Enter the data to insert at head: \"))\n",
    "    newNode = Node(data)\n",
    "    newNode.next = head\n",
    "    head = newNode\n",
    "    return head\n"
   ]
  },
  {
   "cell_type": "markdown",
   "id": "00675a79",
   "metadata": {},
   "source": [
    "Insert at tail"
   ]
  },
  {
   "cell_type": "code",
   "execution_count": 16,
   "id": "45918539",
   "metadata": {},
   "outputs": [],
   "source": [
    "def insert_at_tail(head):\n",
    "    data=int(input(\"Enter the data which you want to insert \"))\n",
    "    newNode=Node(data)\n",
    "    if(head is None):\n",
    "        return newNode\n",
    "    \n",
    "    temp=head\n",
    "    while(temp.next is not None):\n",
    "        temp=temp.next\n",
    "    temp.next=newNode\n",
    "\n",
    "    return head"
   ]
  },
  {
   "cell_type": "code",
   "execution_count": 17,
   "id": "913d9f78",
   "metadata": {},
   "outputs": [],
   "source": [
    "def insert_at_tail_recursive(head,data):\n",
    "    if(head is None):\n",
    "        newNode=Node(data)\n",
    "        return newNode\n",
    "    if(head.next==None):\n",
    "        newNode=Node(data)\n",
    "        head.next=newNode\n",
    "        return head\n",
    "\n",
    "    head.next=insert_at_tail_recursive(head.next,data)\n",
    "    return head"
   ]
  },
  {
   "cell_type": "markdown",
   "id": "941d97af",
   "metadata": {},
   "source": [
    "Insert at index"
   ]
  },
  {
   "cell_type": "code",
   "execution_count": 18,
   "id": "0241477b",
   "metadata": {},
   "outputs": [],
   "source": [
    "def insert_at_index(head,data,index):\n",
    "    if index==0:\n",
    "        return insert_at_head(head)\n",
    "    new_node = Node(data)\n",
    "    temp = head\n",
    "    count = 0\n",
    "\n",
    "    while temp is not None and count<index-1:\n",
    "        temp= temp.next\n",
    "        count+=1\n",
    "    new_node.next=temp.next\n",
    "    temp.next=new_node\n",
    "    return head\n"
   ]
  },
  {
   "cell_type": "code",
   "execution_count": 19,
   "id": "f9891d2b",
   "metadata": {},
   "outputs": [],
   "source": [
    "def insert_recursion(head,data,index):\n",
    "    if index==0:\n",
    "        return insert_at_head(head)\n",
    "    if head==None:\n",
    "        print(\"Index out of bound.\")\n",
    "        return head\n",
    "    head.next=insert_recursion(head.next,data,index-1) \n",
    "    return head\n"
   ]
  },
  {
   "cell_type": "code",
   "execution_count": 20,
   "id": "716434ba",
   "metadata": {},
   "outputs": [],
   "source": [
    "def delete_at_head(head):\n",
    "    if head is None:\n",
    "        return None\n",
    "    new_head=head.next\n",
    "    return new_head\n",
    "\n",
    "# [python has inbuilt garbage collection so it is not necessary to disconnect \n",
    "#  the node but in languages like c and c++ it is mendatory to disonnnect the old head ]\n"
   ]
  },
  {
   "cell_type": "code",
   "execution_count": 21,
   "id": "866ee40e",
   "metadata": {},
   "outputs": [],
   "source": [
    "def delete_at_tail(head):\n",
    "    if (head is None or head.next is None):\n",
    "        return None\n",
    "    current = head\n",
    "    while(current.next.next is not None):\n",
    "        current=current.next\n",
    "    current.next=None\n",
    "\n",
    "    return head"
   ]
  },
  {
   "cell_type": "code",
   "execution_count": 22,
   "id": "2760ab47",
   "metadata": {},
   "outputs": [],
   "source": [
    "def delete_tail_recursively(head):\n",
    "    if head is None or head.next is None: #Base case\n",
    "        return None\n",
    "    if head.next.next is None:\n",
    "        head.next=None\n",
    "    head.next=delete_tail_recursively(head.next)\n",
    "\n",
    "    return head"
   ]
  },
  {
   "cell_type": "code",
   "execution_count": 23,
   "id": "f67686d3",
   "metadata": {},
   "outputs": [],
   "source": [
    "def delete_at_index(head, index):\n",
    "    if head is None:\n",
    "        return None\n",
    "    \n",
    "    if index == 0:\n",
    "        return head.next\n",
    "\n",
    "    current = head\n",
    "    current_pos = 0\n",
    "\n",
    "    while current is not None and current_pos < index - 1:\n",
    "        current = current.next\n",
    "        current_pos += 1\n",
    "\n",
    "    if current is not None and current.next is not None: #Byoass\n",
    "        current.next = current.next.next\n",
    "\n",
    "    return head\n"
   ]
  },
  {
   "cell_type": "code",
   "execution_count": 24,
   "id": "551cdc4e",
   "metadata": {},
   "outputs": [],
   "source": [
    "def del_index_recursive(head,index):\n",
    "    if head is None:\n",
    "        return None\n",
    "    \n",
    "    if index==0:\n",
    "        return head.next\n",
    "    \n",
    "    current = head\n",
    "    \n",
    "    head.next=del_index_recursive(head.next,index-1)\n",
    "    return head\n"
   ]
  },
  {
   "cell_type": "code",
   "execution_count": 26,
   "id": "e3dd9fd5",
   "metadata": {},
   "outputs": [],
   "source": [
    "def del_node_by_val(head,value):\n",
    "    if head is None:\n",
    "        print(\"list is empty\")\n",
    "        return None\n",
    "\n",
    "    if head.data==value:\n",
    "        return head.next #Boundary case when head is value.\n",
    "    \n",
    "    temp = head\n",
    "    while temp.next is not None and temp.next.data!=value:\n",
    "        temp=temp.next\n",
    "\n",
    "    if temp.next is None:\n",
    "        print(\"Value not found.\")\n",
    "        return head\n",
    "    \n",
    "    temp.next=temp.next.next\n",
    "    return head"
   ]
  },
  {
   "cell_type": "code",
   "execution_count": 27,
   "id": "7c033fa4",
   "metadata": {},
   "outputs": [],
   "source": [
    "# Searching in linked list:value\n",
    "def search_by_value(head,value):\n",
    "    temp=head\n",
    "    index=0\n",
    "\n",
    "    while(temp!=None):\n",
    "        if temp.data==value:\n",
    "            return index\n",
    "        temp=temp.next\n",
    "        index+=1\n",
    "\n",
    "    return \"Not found\"\n",
    "\n"
   ]
  },
  {
   "cell_type": "code",
   "execution_count": 31,
   "id": "45ffe0da",
   "metadata": {},
   "outputs": [],
   "source": [
    "ind=0\n",
    "def search_value_rec(head,value,ind):\n",
    "    if head is None:\n",
    "        return \"Not found\" \n",
    "    if head.data==value:\n",
    "        return ind\n",
    "    search_value_rec(head.next,value,ind+1)"
   ]
  },
  {
   "cell_type": "code",
   "execution_count": null,
   "id": "ec8a282c",
   "metadata": {},
   "outputs": [],
   "source": [
    "def create_ll_from_list(l1):\n",
    "    head=None\n",
    "    tail=None\n",
    "    for value in l1:\n",
    "        new_node=Node(value)\n",
    "        if head==Node:\n",
    "            head=new_node\n",
    "            tail=new_node\n",
    "        else:\n",
    "            tail.next=new_node\n",
    "            tail=new_node\n",
    "    return head"
   ]
  },
  {
   "cell_type": "code",
   "execution_count": 1,
   "id": "24641275",
   "metadata": {},
   "outputs": [],
   "source": [
    "def middle_ll(head):\n",
    "    if head is None or head.next is None:\n",
    "        return head\n",
    "    length=lengthofLL(head)\n",
    "    middle=length//2\n",
    "    temp=head\n",
    "    count=0\n",
    "    while(count<middle):\n",
    "        temp=temp.next\n",
    "        count+=1\n",
    "    return temp\n"
   ]
  },
  {
   "cell_type": "code",
   "execution_count": null,
   "id": "f5dc2306",
   "metadata": {},
   "outputs": [],
   "source": []
  },
  {
   "cell_type": "code",
   "execution_count": null,
   "id": "b9f14e25",
   "metadata": {},
   "outputs": [],
   "source": []
  },
  {
   "cell_type": "code",
   "execution_count": null,
   "id": "dad60a32",
   "metadata": {},
   "outputs": [],
   "source": []
  },
  {
   "cell_type": "code",
   "execution_count": null,
   "id": "0af8d9e8",
   "metadata": {},
   "outputs": [],
   "source": []
  },
  {
   "cell_type": "code",
   "execution_count": null,
   "id": "d7718e97",
   "metadata": {},
   "outputs": [],
   "source": []
  },
  {
   "cell_type": "code",
   "execution_count": null,
   "id": "0267138b",
   "metadata": {},
   "outputs": [],
   "source": []
  },
  {
   "cell_type": "code",
   "execution_count": null,
   "id": "7cc8b550",
   "metadata": {},
   "outputs": [],
   "source": []
  }
 ],
 "metadata": {
  "kernelspec": {
   "display_name": "Python 3",
   "language": "python",
   "name": "python3"
  },
  "language_info": {
   "codemirror_mode": {
    "name": "ipython",
    "version": 3
   },
   "file_extension": ".py",
   "mimetype": "text/x-python",
   "name": "python",
   "nbconvert_exporter": "python",
   "pygments_lexer": "ipython3",
   "version": "3.13.7"
  }
 },
 "nbformat": 4,
 "nbformat_minor": 5
}
