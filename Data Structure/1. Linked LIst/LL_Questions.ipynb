{
 "cells": [
  {
   "cell_type": "code",
   "execution_count": null,
   "id": "52c98905",
   "metadata": {},
   "outputs": [],
   "source": [
    "from Linked_list_class import Node, LinkedList"
   ]
  },
  {
   "cell_type": "markdown",
   "id": "3a45ad5e",
   "metadata": {},
   "source": [
    "## 1"
   ]
  },
  {
   "cell_type": "code",
   "execution_count": 7,
   "id": "6149ccf7",
   "metadata": {},
   "outputs": [],
   "source": [
    "def middle_ll_slow_fast(head):\n",
    "    if (head is None or head.next is None):\n",
    "        return None\n",
    "    slow=head\n",
    "    fast=head\n",
    "    while fast is not None and fast.next is not None:\n",
    "        slow=slow.next\n",
    "        fast=fast.next.next\n",
    "    return slow #This code is not handling one input\n",
    "\n",
    "\n",
    "# if head is None:\n",
    "#         return None\n",
    "#     slow = head\n",
    "#     fast = head\n",
    "#     while fast and fast.next:\n",
    "#         slow = slow.next\n",
    "#         fast = fast.next.next\n",
    "#     return slow\n",
    "# This code can handle one input\n"
   ]
  },
  {
   "cell_type": "markdown",
   "id": "9ee4bc9e",
   "metadata": {},
   "source": [
    "## 2"
   ]
  },
  {
   "cell_type": "code",
   "execution_count": null,
   "id": "938768db",
   "metadata": {},
   "outputs": [],
   "source": [
    "# Merge two sorted linked list.\n",
    "\n",
    "def merge_two_sorted_ll(head1,head2):\n",
    "    if head1 is None:\n",
    "        return head2\n",
    "    if head2 is None:\n",
    "        return head1\n",
    "    final_head = None\n",
    "    final_tail = None\n",
    "\n",
    "    while head1 is not None and head2 is not None:\n",
    "        if head1.data<head2.data:\n",
    "            if final_head is None:\n",
    "                final_head = head1\n",
    "                final_tail = head1\n",
    "            else:\n",
    "                final_tail.next = head1\n",
    "                final_tail = head1\n",
    "            head1=head1.next\n",
    "        else:\n",
    "            if final_head is None:\n",
    "                final_head = head2\n",
    "                final_tail = head2\n",
    "            else:\n",
    "                final_tail.next = head2\n",
    "                final_tail = head2\n",
    "            head1=head2.next\n",
    "\n",
    "    if head1 is not None:\n",
    "        final_tail.next = head1\n",
    "    if head2 is not None:\n",
    "        final_tail.next = head2\n",
    "\n",
    "    return final_head"
   ]
  },
  {
   "cell_type": "markdown",
   "id": "76e01103",
   "metadata": {},
   "source": [
    "## 3"
   ]
  },
  {
   "cell_type": "code",
   "execution_count": null,
   "id": "6c29ed7b",
   "metadata": {},
   "outputs": [],
   "source": [
    "# Reverse a linked list\n"
   ]
  }
 ],
 "metadata": {
  "kernelspec": {
   "display_name": "Python 3",
   "language": "python",
   "name": "python3"
  },
  "language_info": {
   "codemirror_mode": {
    "name": "ipython",
    "version": 3
   },
   "file_extension": ".py",
   "mimetype": "text/x-python",
   "name": "python",
   "nbconvert_exporter": "python",
   "pygments_lexer": "ipython3",
   "version": "3.13.7"
  }
 },
 "nbformat": 4,
 "nbformat_minor": 5
}
