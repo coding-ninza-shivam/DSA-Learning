{
 "cells": [
  {
   "cell_type": "code",
   "execution_count": 1,
   "id": "965de27e",
   "metadata": {},
   "outputs": [],
   "source": [
    "class Node:\n",
    "    def __init__(self, value):\n",
    "        self.data=value\n",
    "        self.next=None\n",
    "\n",
    "first=Node(1)\n",
    "second=Node(2)\n",
    "third=Node(3)\n",
    "\n",
    "first.next=second\n",
    "second.next=third\n",
    "\n",
    "head=first"
   ]
  },
  {
   "cell_type": "code",
   "execution_count": 2,
   "id": "249b158e",
   "metadata": {},
   "outputs": [
    {
     "name": "stdout",
     "output_type": "stream",
     "text": [
      "1-->>2-->>3-->>"
     ]
    }
   ],
   "source": [
    "def print_LL(head):\n",
    "    temp=head\n",
    "    while(temp!=None):\n",
    "        print(temp.data,end='-->>')\n",
    "        temp=temp.next\n",
    "    return\n",
    "\n",
    "print_LL(head)"
   ]
  },
  {
   "cell_type": "code",
   "execution_count": 3,
   "id": "89fe096f",
   "metadata": {},
   "outputs": [],
   "source": [
    "def take_input():\n",
    "    value=int(input(\"Enter the value of Node(-1 to stop):- \"))\n",
    "    head=None\n",
    "    while(value!=-1):\n",
    "        new_node=Node(value)\n",
    "        if(head is None):\n",
    "            head=new_node\n",
    "        else:\n",
    "            temp=head\n",
    "            while(temp.next!=None):\n",
    "                temp=temp.next\n",
    "            temp.next=new_node\n",
    "        value=int(input(\"Enter the value of Node(-1 to stop):- \"))\n",
    "    return head"
   ]
  },
  {
   "cell_type": "code",
   "execution_count": 4,
   "id": "90e54fc9",
   "metadata": {},
   "outputs": [],
   "source": [
    "def take_input_better():\n",
    "    value=int(input(\"Enter the value of Node(-1 to stop):- \"))\n",
    "    head=None\n",
    "    tail=None\n",
    "    while(value!=-1):\n",
    "        new_node=Node(value)\n",
    "        if(head is None):\n",
    "            head=new_node\n",
    "            tail=new_node\n",
    "        else:\n",
    "            tail.next=new_node\n",
    "            tail=new_node\n",
    "        value=int(input(\"Enter the value of Node(-1 to stop):- \"))\n",
    "    return head"
   ]
  },
  {
   "cell_type": "code",
   "execution_count": 5,
   "id": "cfc7ba8f",
   "metadata": {},
   "outputs": [
    {
     "ename": "ValueError",
     "evalue": "invalid literal for int() with base 10: ''",
     "output_type": "error",
     "traceback": [
      "\u001b[31m---------------------------------------------------------------------------\u001b[39m",
      "\u001b[31mValueError\u001b[39m                                Traceback (most recent call last)",
      "\u001b[36mCell\u001b[39m\u001b[36m \u001b[39m\u001b[32mIn[5]\u001b[39m\u001b[32m, line 1\u001b[39m\n\u001b[32m----> \u001b[39m\u001b[32m1\u001b[39m new_head=\u001b[43mtake_input_better\u001b[49m\u001b[43m(\u001b[49m\u001b[43m)\u001b[49m\n\u001b[32m      2\u001b[39m print_LL(new_head)\n",
      "\u001b[36mCell\u001b[39m\u001b[36m \u001b[39m\u001b[32mIn[4]\u001b[39m\u001b[32m, line 2\u001b[39m, in \u001b[36mtake_input_better\u001b[39m\u001b[34m()\u001b[39m\n\u001b[32m      1\u001b[39m \u001b[38;5;28;01mdef\u001b[39;00m\u001b[38;5;250m \u001b[39m\u001b[34mtake_input_better\u001b[39m():\n\u001b[32m----> \u001b[39m\u001b[32m2\u001b[39m     value=\u001b[38;5;28;43mint\u001b[39;49m\u001b[43m(\u001b[49m\u001b[38;5;28;43minput\u001b[39;49m\u001b[43m(\u001b[49m\u001b[33;43m\"\u001b[39;49m\u001b[33;43mEnter the value of Node(-1 to stop):- \u001b[39;49m\u001b[33;43m\"\u001b[39;49m\u001b[43m)\u001b[49m\u001b[43m)\u001b[49m\n\u001b[32m      3\u001b[39m     head=\u001b[38;5;28;01mNone\u001b[39;00m\n\u001b[32m      4\u001b[39m     tail=\u001b[38;5;28;01mNone\u001b[39;00m\n",
      "\u001b[31mValueError\u001b[39m: invalid literal for int() with base 10: ''"
     ]
    }
   ],
   "source": [
    "new_head=take_input_better()\n",
    "print_LL(new_head)"
   ]
  },
  {
   "cell_type": "code",
   "execution_count": 6,
   "id": "9e55f4a7",
   "metadata": {},
   "outputs": [
    {
     "ename": "ValueError",
     "evalue": "invalid literal for int() with base 10: ''",
     "output_type": "error",
     "traceback": [
      "\u001b[31m---------------------------------------------------------------------------\u001b[39m",
      "\u001b[31mValueError\u001b[39m                                Traceback (most recent call last)",
      "\u001b[36mCell\u001b[39m\u001b[36m \u001b[39m\u001b[32mIn[6]\u001b[39m\u001b[32m, line 9\u001b[39m\n\u001b[32m      6\u001b[39m         ans+=\u001b[32m1\u001b[39m\n\u001b[32m      7\u001b[39m     \u001b[38;5;28;01mreturn\u001b[39;00m ans\n\u001b[32m----> \u001b[39m\u001b[32m9\u001b[39m headofLL=\u001b[43mtake_input_better\u001b[49m\u001b[43m(\u001b[49m\u001b[43m)\u001b[49m\n\u001b[32m     10\u001b[39m lenght=lengthofLL(headofLL)\n\u001b[32m     11\u001b[39m \u001b[38;5;28mprint\u001b[39m(lenght)\n",
      "\u001b[36mCell\u001b[39m\u001b[36m \u001b[39m\u001b[32mIn[4]\u001b[39m\u001b[32m, line 2\u001b[39m, in \u001b[36mtake_input_better\u001b[39m\u001b[34m()\u001b[39m\n\u001b[32m      1\u001b[39m \u001b[38;5;28;01mdef\u001b[39;00m\u001b[38;5;250m \u001b[39m\u001b[34mtake_input_better\u001b[39m():\n\u001b[32m----> \u001b[39m\u001b[32m2\u001b[39m     value=\u001b[38;5;28;43mint\u001b[39;49m\u001b[43m(\u001b[49m\u001b[38;5;28;43minput\u001b[39;49m\u001b[43m(\u001b[49m\u001b[33;43m\"\u001b[39;49m\u001b[33;43mEnter the value of Node(-1 to stop):- \u001b[39;49m\u001b[33;43m\"\u001b[39;49m\u001b[43m)\u001b[49m\u001b[43m)\u001b[49m\n\u001b[32m      3\u001b[39m     head=\u001b[38;5;28;01mNone\u001b[39;00m\n\u001b[32m      4\u001b[39m     tail=\u001b[38;5;28;01mNone\u001b[39;00m\n",
      "\u001b[31mValueError\u001b[39m: invalid literal for int() with base 10: ''"
     ]
    }
   ],
   "source": [
    "def lengthofLL(head):\n",
    "    temp=head \n",
    "    ans=0\n",
    "    while(temp!=None):\n",
    "        temp=temp.next\n",
    "        ans+=1\n",
    "    return ans\n",
    "\n",
    "headofLL=take_input_better()\n",
    "lenght=lengthofLL(headofLL)\n",
    "print(lenght)"
   ]
  },
  {
   "cell_type": "code",
   "execution_count": null,
   "id": "d7b28d0a",
   "metadata": {},
   "outputs": [
    {
     "name": "stdout",
     "output_type": "stream",
     "text": [
      "10\n"
     ]
    }
   ],
   "source": [
    "def len_LL_recursive(head):\n",
    "    if(head==None):\n",
    "        return 0\n",
    "    recursive_small_answer=len_LL_recursive(head.next)\n",
    "    return 1+recursive_small_answer\n",
    "\n",
    "length=len_LL_recursive(headofLL)\n",
    "print(length)"
   ]
  },
  {
   "cell_type": "code",
   "execution_count": null,
   "id": "6ae09b0d",
   "metadata": {},
   "outputs": [
    {
     "name": "stdout",
     "output_type": "stream",
     "text": [
      "Before inserting \n",
      "\n",
      "8-->>7-->>6-->>5-->>4-->>\n",
      "\n",
      "After inserting \n",
      "\n",
      "9-->>8-->>7-->>6-->>5-->>4-->>"
     ]
    }
   ],
   "source": [
    "head=take_input_better()\n",
    "print(\"Before inserting \\n\")\n",
    "print_LL(head)\n",
    "print(\"\\n\")\n",
    "\n",
    "def insert_at_head(head):\n",
    "    data = int(input(\"Enter the data to insert at head: \"))\n",
    "    newNode = Node(data)\n",
    "    newNode.next = head\n",
    "    head = newNode\n",
    "    return head\n",
    "\n",
    "print(\"After inserting \\n\")\n",
    "head = insert_at_head(head)\n",
    "print_LL(head)"
   ]
  },
  {
   "cell_type": "markdown",
   "id": "00675a79",
   "metadata": {},
   "source": [
    "Insert at tail"
   ]
  },
  {
   "cell_type": "code",
   "execution_count": 7,
   "id": "45918539",
   "metadata": {},
   "outputs": [
    {
     "ename": "ValueError",
     "evalue": "invalid literal for int() with base 10: ''",
     "output_type": "error",
     "traceback": [
      "\u001b[31m---------------------------------------------------------------------------\u001b[39m",
      "\u001b[31mValueError\u001b[39m                                Traceback (most recent call last)",
      "\u001b[36mCell\u001b[39m\u001b[36m \u001b[39m\u001b[32mIn[7]\u001b[39m\u001b[32m, line 1\u001b[39m\n\u001b[32m----> \u001b[39m\u001b[32m1\u001b[39m head=\u001b[43mtake_input_better\u001b[49m\u001b[43m(\u001b[49m\u001b[43m)\u001b[49m\n\u001b[32m      2\u001b[39m \u001b[38;5;28mprint\u001b[39m(\u001b[33m\"\u001b[39m\u001b[33mBefore inserting \u001b[39m\u001b[38;5;130;01m\\n\u001b[39;00m\u001b[33m\"\u001b[39m)\n\u001b[32m      3\u001b[39m print_LL(head)\n",
      "\u001b[36mCell\u001b[39m\u001b[36m \u001b[39m\u001b[32mIn[4]\u001b[39m\u001b[32m, line 2\u001b[39m, in \u001b[36mtake_input_better\u001b[39m\u001b[34m()\u001b[39m\n\u001b[32m      1\u001b[39m \u001b[38;5;28;01mdef\u001b[39;00m\u001b[38;5;250m \u001b[39m\u001b[34mtake_input_better\u001b[39m():\n\u001b[32m----> \u001b[39m\u001b[32m2\u001b[39m     value=\u001b[38;5;28;43mint\u001b[39;49m\u001b[43m(\u001b[49m\u001b[38;5;28;43minput\u001b[39;49m\u001b[43m(\u001b[49m\u001b[33;43m\"\u001b[39;49m\u001b[33;43mEnter the value of Node(-1 to stop):- \u001b[39;49m\u001b[33;43m\"\u001b[39;49m\u001b[43m)\u001b[49m\u001b[43m)\u001b[49m\n\u001b[32m      3\u001b[39m     head=\u001b[38;5;28;01mNone\u001b[39;00m\n\u001b[32m      4\u001b[39m     tail=\u001b[38;5;28;01mNone\u001b[39;00m\n",
      "\u001b[31mValueError\u001b[39m: invalid literal for int() with base 10: ''"
     ]
    }
   ],
   "source": [
    "head=take_input_better()\n",
    "print(\"Before inserting \\n\")\n",
    "print_LL(head)\n",
    "print(\"\\n\")\n",
    "\n",
    "def insert_at_tail(head):\n",
    "    data=int(input(\"Enter the data which you want to insert \"))\n",
    "    newNode=Node(data)\n",
    "    if(head is None):\n",
    "        return newNode\n",
    "    \n",
    "    temp=head\n",
    "    while(temp.next is not None):\n",
    "        temp=temp.next\n",
    "    temp.next=newNode\n",
    "\n",
    "    return head\n",
    "\n",
    "print(\"After inserting \\n\")\n",
    "head=insert_at_tail(head)\n",
    "print_LL(head)\n"
   ]
  },
  {
   "cell_type": "code",
   "execution_count": 8,
   "id": "913d9f78",
   "metadata": {},
   "outputs": [],
   "source": [
    "def insert_at_tail_recursive(head,data):\n",
    "    if(head is None):\n",
    "        newNode=Node(data)\n",
    "        return newNode\n",
    "    if(head.next==None):\n",
    "        newNode=Node(data)\n",
    "        head.next=newNode\n",
    "        return head\n",
    "\n",
    "    head.next=insert_at_tail_recursive(head.next,data)\n",
    "    return head"
   ]
  },
  {
   "cell_type": "markdown",
   "id": "941d97af",
   "metadata": {},
   "source": [
    "Insert at index"
   ]
  },
  {
   "cell_type": "code",
   "execution_count": 9,
   "id": "0241477b",
   "metadata": {},
   "outputs": [],
   "source": [
    "def insert_at_index(head,data,index):\n",
    "    if index==0:\n",
    "        return insert_at_head(head)\n",
    "    new_node = Node(data)\n",
    "    temp = head\n",
    "    count = 0\n",
    "\n",
    "    while temp is not None and count<index-1:\n",
    "        temp= temp.next\n",
    "        count+=1\n",
    "    new_node.next=temp.next\n",
    "    temp.next=new_node\n",
    "    return head\n"
   ]
  },
  {
   "cell_type": "code",
   "execution_count": 10,
   "id": "f9891d2b",
   "metadata": {},
   "outputs": [],
   "source": [
    "def insert_recursion(head,data,index):\n",
    "    if index==0:\n",
    "        return insert_at_head(head)\n",
    "    if head==None:\n",
    "        print(\"Index out of bound.\")\n",
    "        return head\n",
    "    head.next=insert_recursion(head.next,data,index-1) \n",
    "    return head\n"
   ]
  },
  {
   "cell_type": "code",
   "execution_count": 11,
   "id": "716434ba",
   "metadata": {},
   "outputs": [],
   "source": [
    "def delete_at_head(head):\n",
    "    if head is None:\n",
    "        return None\n",
    "    new_head=head.next\n",
    "    return new_head\n",
    "\n",
    "# [python has inbuilt garbage collection so it is not necessary to disconnect \n",
    "#  the node but in languages like c and c++ it is mendatory to disonnnect the old head ]\n"
   ]
  },
  {
   "cell_type": "code",
   "execution_count": 12,
   "id": "866ee40e",
   "metadata": {},
   "outputs": [],
   "source": [
    "def delete_at_tail(head):\n",
    "    if (head is None or head.next is None):\n",
    "        return None\n",
    "    current = head\n",
    "    while(current.next.next is not None):\n",
    "        current=current.next\n",
    "    current.next=None\n",
    "\n",
    "    return head"
   ]
  },
  {
   "cell_type": "code",
   "execution_count": 13,
   "id": "2760ab47",
   "metadata": {},
   "outputs": [],
   "source": [
    "def delete_tail_recursively(head):\n",
    "    if head is None or head.next is None: #Base case\n",
    "        return None\n",
    "    if head.next.next is None:\n",
    "        head.next=None\n",
    "    head.next=delete_tail_recursively(head.next)\n",
    "\n",
    "    return head"
   ]
  },
  {
   "cell_type": "code",
   "execution_count": 14,
   "id": "f67686d3",
   "metadata": {},
   "outputs": [],
   "source": [
    "def delete_at_index(head, index):\n",
    "    if head is None:\n",
    "        return None\n",
    "    \n",
    "    if index == 0:\n",
    "        return head.next\n",
    "\n",
    "    current = head\n",
    "    current_pos = 0\n",
    "\n",
    "    while current is not None and current_pos < index - 1:\n",
    "        current = current.next\n",
    "        current_pos += 1\n",
    "\n",
    "    if current is not None and current.next is not None: #Byoass\n",
    "        current.next = current.next.next\n",
    "\n",
    "    return head\n"
   ]
  },
  {
   "cell_type": "code",
   "execution_count": null,
   "id": "551cdc4e",
   "metadata": {},
   "outputs": [],
   "source": [
    "def del_index_recursive(head,index):\n",
    "    if head is None:\n",
    "        return None\n",
    "    \n",
    "    if index==0:\n",
    "        return head.next\n",
    "    \n",
    "    current = head\n",
    "    \n",
    "    head.next=del_index_recursive(head.next,index-1)\n",
    "    return head\n"
   ]
  },
  {
   "cell_type": "code",
   "execution_count": null,
   "id": "e3dd9fd5",
   "metadata": {},
   "outputs": [],
   "source": [
    "def del_node_by_val(head,value):\n",
    "    if head is None:\n",
    "        return None\n",
    "    if head\n",
    "    while head.data!=value:\n",
    "        head = head.next\n",
    "    head.next=head.next.next\n",
    "\n",
    "    return next"
   ]
  },
  {
   "cell_type": "code",
   "execution_count": null,
   "id": "bd4292f8",
   "metadata": {},
   "outputs": [],
   "source": []
  },
  {
   "cell_type": "code",
   "execution_count": null,
   "id": "7c033fa4",
   "metadata": {},
   "outputs": [],
   "source": []
  },
  {
   "cell_type": "code",
   "execution_count": null,
   "id": "45ffe0da",
   "metadata": {},
   "outputs": [],
   "source": []
  }
 ],
 "metadata": {
  "kernelspec": {
   "display_name": "Python 3",
   "language": "python",
   "name": "python3"
  },
  "language_info": {
   "codemirror_mode": {
    "name": "ipython",
    "version": 3
   },
   "file_extension": ".py",
   "mimetype": "text/x-python",
   "name": "python",
   "nbconvert_exporter": "python",
   "pygments_lexer": "ipython3",
   "version": "3.13.7"
  }
 },
 "nbformat": 4,
 "nbformat_minor": 5
}
