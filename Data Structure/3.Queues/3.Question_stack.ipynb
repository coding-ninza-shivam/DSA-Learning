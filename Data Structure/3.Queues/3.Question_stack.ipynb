{
 "cells": [
  {
   "cell_type": "markdown",
   "id": "2d0ff110",
   "metadata": {},
   "source": [
    "## 1. Next Greater Element"
   ]
  },
  {
   "cell_type": "code",
   "execution_count": 2,
   "id": "4ff089db",
   "metadata": {},
   "outputs": [],
   "source": [
    "# Brute force Approch\n",
    "def NGEBruteForce(arr, length):\n",
    "    result = [-1]*length\n",
    "    for i in range(length):\n",
    "        for j in range(i+1, length):\n",
    "            if arr[j]>arr[i]:\n",
    "                result[i]=arr[j]\n",
    "                break\n",
    "    return result"
   ]
  },
  {
   "cell_type": "markdown",
   "id": "4b937fe5",
   "metadata": {},
   "source": [
    "Its time complexity is O(n^2) so this code is not good we need seme improvement."
   ]
  },
  {
   "cell_type": "code",
   "execution_count": null,
   "id": "e43dd3d4",
   "metadata": {},
   "outputs": [],
   "source": [
    "# Using stack \n",
    "def NGE(arr,length):\n",
    "    stack = []\n",
    "    result = [-1]*len(arr)\n",
    "    for index in range (len(arr)-1,-1,-1):\n",
    "        while stack and stack[-1]<arr[index]:\n",
    "            stack.pop()\n",
    "        if stack:\n",
    "            result[index]=stack[-1]\n",
    "        stack.append(arr[index])\n"
   ]
  },
  {
   "cell_type": "markdown",
   "id": "198154c7",
   "metadata": {},
   "source": [
    "Its time complexity is O(n) so this code is better than the previous one approach."
   ]
  },
  {
   "cell_type": "markdown",
   "id": "52fafce8",
   "metadata": {},
   "source": [
    "## 2. Valid Pranthasies"
   ]
  },
  {
   "cell_type": "code",
   "execution_count": 1,
   "id": "f4a16e89",
   "metadata": {},
   "outputs": [],
   "source": [
    "def is_balanced(S):\n",
    "    map = {'[':']', '{':'}', '(':')'}\n",
    "    stack = []\n",
    "    for character in S:\n",
    "        if character in map:\n",
    "            stack.append(character)\n",
    "        else:\n",
    "            if not stack or map[stack.pop()] != character:\n",
    "                return False\n",
    "    return not stack"
   ]
  },
  {
   "cell_type": "code",
   "execution_count": 2,
   "id": "76f03bd2",
   "metadata": {},
   "outputs": [],
   "source": [
    "# Using classes and a smart approch\n",
    "\n",
    "class Solution(object):\n",
    "    def isValid(self, s):\n",
    "        if len(s) % 2 != 0:\n",
    "            return False\n",
    "        stack = []\n",
    "        map = {')': '(', ']': '[', '}': '{'}\n",
    "        for char in s:\n",
    "            if char in map.values():\n",
    "                stack.append(char)\n",
    "            elif char in map:\n",
    "                if not stack or stack.pop() != map[char]:\n",
    "                    return False\n",
    "            else:\n",
    "                return False\n",
    "        return not stack  "
   ]
  },
  {
   "cell_type": "markdown",
   "id": "5733dca2",
   "metadata": {},
   "source": [
    "## 3.Remove Duplicates"
   ]
  },
  {
   "cell_type": "code",
   "execution_count": 3,
   "id": "f246c2cb",
   "metadata": {},
   "outputs": [
    {
     "name": "stdout",
     "output_type": "stream",
     "text": [
      "ca\n"
     ]
    }
   ],
   "source": [
    "class Solution:\n",
    "    def removeDuplicates(self, s: str) -> str:\n",
    "        stack = []\n",
    "        for character in s:\n",
    "            if stack and stack[-1] == character:\n",
    "                stack.pop()\n",
    "            else:\n",
    "                stack.append(character)\n",
    "        return ''.join(stack)\n",
    "\n",
    "sol = Solution()\n",
    "print(sol.removeDuplicates(\"abbaca\")) "
   ]
  }
 ],
 "metadata": {
  "kernelspec": {
   "display_name": "Python 3",
   "language": "python",
   "name": "python3"
  },
  "language_info": {
   "codemirror_mode": {
    "name": "ipython",
    "version": 3
   },
   "file_extension": ".py",
   "mimetype": "text/x-python",
   "name": "python",
   "nbconvert_exporter": "python",
   "pygments_lexer": "ipython3",
   "version": "3.13.7"
  }
 },
 "nbformat": 4,
 "nbformat_minor": 5
}
