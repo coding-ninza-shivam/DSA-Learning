{
 "cells": [
  {
   "cell_type": "code",
   "execution_count": 10,
   "id": "1b048654",
   "metadata": {},
   "outputs": [],
   "source": [
    "class TreeNode:\n",
    "    def __init__(self,data):\n",
    "        self.data = data\n",
    "        self.children = []"
   ]
  },
  {
   "cell_type": "code",
   "execution_count": 11,
   "id": "d2ca15ef",
   "metadata": {},
   "outputs": [
    {
     "name": "stdout",
     "output_type": "stream",
     "text": [
      "2\n"
     ]
    }
   ],
   "source": [
    "root = TreeNode(1)\n",
    "child1= TreeNode(2)\n",
    "child2= TreeNode(3)\n",
    "child3= TreeNode(4)\n",
    "\n",
    "root.children.append(child1)\n",
    "root.children.append(child2)\n",
    "root.children.append(child3)\n",
    "\n",
    "print(root.children[0].data)"
   ]
  },
  {
   "cell_type": "code",
   "execution_count": 16,
   "id": "63c63d9a",
   "metadata": {},
   "outputs": [],
   "source": [
    "def print_tree(root):\n",
    "    print(root.data)\n",
    "    for each_child in root.children:\n",
    "        print_tree(each_child)"
   ]
  },
  {
   "cell_type": "code",
   "execution_count": 17,
   "id": "dce97ebd",
   "metadata": {},
   "outputs": [
    {
     "name": "stdout",
     "output_type": "stream",
     "text": [
      "1\n",
      "2\n",
      "3\n",
      "4\n"
     ]
    }
   ],
   "source": [
    "print_tree(root)"
   ]
  }
 ],
 "metadata": {
  "kernelspec": {
   "display_name": "Python 3",
   "language": "python",
   "name": "python3"
  },
  "language_info": {
   "codemirror_mode": {
    "name": "ipython",
    "version": 3
   },
   "file_extension": ".py",
   "mimetype": "text/x-python",
   "name": "python",
   "nbconvert_exporter": "python",
   "pygments_lexer": "ipython3",
   "version": "3.13.7"
  }
 },
 "nbformat": 4,
 "nbformat_minor": 5
}
