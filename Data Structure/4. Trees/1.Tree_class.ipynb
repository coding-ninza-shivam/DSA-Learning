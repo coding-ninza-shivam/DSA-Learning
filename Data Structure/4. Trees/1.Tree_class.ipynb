{
 "cells": [
  {
   "cell_type": "code",
   "execution_count": 7,
   "id": "1b048654",
   "metadata": {},
   "outputs": [],
   "source": [
    "class TreeNode:\n",
    "    def __init__(self,data):\n",
    "        self.data = data\n",
    "        self.children = []"
   ]
  },
  {
   "cell_type": "code",
   "execution_count": 8,
   "id": "d2ca15ef",
   "metadata": {},
   "outputs": [
    {
     "name": "stdout",
     "output_type": "stream",
     "text": [
      "2\n"
     ]
    }
   ],
   "source": [
    "root = TreeNode(1)\n",
    "child1= TreeNode(2)\n",
    "child2= TreeNode(3)\n",
    "child3= TreeNode(4)\n",
    "\n",
    "root.children.append(child1)\n",
    "root.children.append(child2)\n",
    "root.children.append(child3)\n",
    "\n",
    "print(root.children[0].data)"
   ]
  },
  {
   "cell_type": "code",
   "execution_count": 9,
   "id": "63c63d9a",
   "metadata": {},
   "outputs": [],
   "source": [
    "def print_tree(root):\n",
    "    if root==None: # Edge case not a base case\n",
    "        return\n",
    "    print(root.data)\n",
    "    for each_child in root.children:\n",
    "        print_tree(each_child)"
   ]
  },
  {
   "cell_type": "code",
   "execution_count": 10,
   "id": "dce97ebd",
   "metadata": {},
   "outputs": [
    {
     "name": "stdout",
     "output_type": "stream",
     "text": [
      "1\n",
      "2\n",
      "3\n",
      "4\n"
     ]
    }
   ],
   "source": [
    "print_tree(root)"
   ]
  },
  {
   "cell_type": "markdown",
   "id": "357ed87a",
   "metadata": {},
   "source": [
    "Here problem is that we do not that the tree printed is unique"
   ]
  },
  {
   "cell_type": "code",
   "execution_count": 13,
   "id": "59294330",
   "metadata": {},
   "outputs": [],
   "source": [
    "def print_tree_detailed(root):\n",
    "    if root is None: # Edge Case\n",
    "        return\n",
    "    print(root.data,end=\":\")\n",
    "    for eachChild in root.children:\n",
    "        print(eachChild.data, end=\",\")\n",
    "    print()\n",
    "    for eachChild in root.children:\n",
    "        print_tree_detailed(eachChild)"
   ]
  },
  {
   "cell_type": "code",
   "execution_count": 14,
   "id": "f28b8e4b",
   "metadata": {},
   "outputs": [
    {
     "name": "stdout",
     "output_type": "stream",
     "text": [
      "1:2,3,4,\n",
      "2:\n",
      "3:\n",
      "4:\n"
     ]
    }
   ],
   "source": [
    "print_tree_detailed(root)"
   ]
  },
  {
   "cell_type": "code",
   "execution_count": null,
   "id": "94ead1bb",
   "metadata": {},
   "outputs": [],
   "source": [
    "def take_imput_recursively()"
   ]
  }
 ],
 "metadata": {
  "kernelspec": {
   "display_name": "Python 3",
   "language": "python",
   "name": "python3"
  },
  "language_info": {
   "codemirror_mode": {
    "name": "ipython",
    "version": 3
   },
   "file_extension": ".py",
   "mimetype": "text/x-python",
   "name": "python",
   "nbconvert_exporter": "python",
   "pygments_lexer": "ipython3",
   "version": "3.13.7"
  }
 },
 "nbformat": 4,
 "nbformat_minor": 5
}
