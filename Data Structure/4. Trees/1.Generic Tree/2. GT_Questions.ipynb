{
 "cells": [
  {
   "cell_type": "markdown",
   "id": "58a95f85",
   "metadata": {},
   "source": [
    "## Count Nodes"
   ]
  },
  {
   "cell_type": "code",
   "execution_count": 1,
   "id": "b49d3de0",
   "metadata": {},
   "outputs": [],
   "source": [
    "class Node:\n",
    "    def __init__(self, val=None, children=None):\n",
    "        self.val = val\n",
    "        self.children = children if children is not None else []\n",
    "\n",
    "def count_nodes(root):\n",
    "    \"\"\"\n",
    "    Function to count the number of nodes in an N-ary tree.\n",
    "    :param root: Node -> root of the N-ary tree\n",
    "    :return: int -> total number of nodes in the tree\n",
    "    \"\"\"\n",
    "    # TODO: Implement this function\n",
    "    if root is None:\n",
    "        return 0\n",
    "    count = 1\n",
    "    for each_child in root.children:\n",
    "        count+=count_nodes(each_child)\n",
    "    return count"
   ]
  },
  {
   "cell_type": "markdown",
   "id": "ca8706ad",
   "metadata": {},
   "source": [
    "## Sum Of Nodes"
   ]
  },
  {
   "cell_type": "code",
   "execution_count": 2,
   "id": "1bf32b1d",
   "metadata": {},
   "outputs": [],
   "source": [
    "class Node:\n",
    "    def __init__(self, val=None, children=None):\n",
    "        self.val = val\n",
    "        self.children = children if children is not None else []\n",
    "\n",
    "def sum_of_nodes(root):\n",
    "    \"\"\"\n",
    "    Function to find the sum of all nodes in an N-ary tree.\n",
    "    :param root: Node -> The root of the N-ary tree\n",
    "    :return: int -> The sum of all node values in the tree\n",
    "    \"\"\"\n",
    "    # TODO: Implement this function\n",
    "    if root is None:\n",
    "        return 0\n",
    "    total = root.val\n",
    "    for each_child in root.children:\n",
    "        total = total + sum_of_nodes(each_child)\n",
    "    return total\n"
   ]
  },
  {
   "cell_type": "markdown",
   "id": "e97960d0",
   "metadata": {},
   "source": [
    "## Largest Value In Each Tree Node"
   ]
  },
  {
   "cell_type": "code",
   "execution_count": 3,
   "id": "f8c902e2",
   "metadata": {},
   "outputs": [],
   "source": [
    "from collections import deque\n",
    "\n",
    "class Node:\n",
    "    def __init__(self, val=None, children=None):\n",
    "        self.val = val\n",
    "        self.children = children if children is not None else []\n",
    "\n",
    "def largest_values_in_rows(root):\n",
    "    \"\"\"\n",
    "    Find the largest value in each row of an N-ary tree.\n",
    "\n",
    "    Parameters:\n",
    "    root (Node): The root of the N-ary tree.\n",
    "\n",
    "    Returns:\n",
    "    List[int]: A list of integers where each integer is the largest value in that level of the tree.\n",
    "    \"\"\"\n",
    "    # Implement the function\n",
    "    \n",
    "    if root is None:\n",
    "        return []\n",
    "    queue = deque([root])\n",
    "    largest_level = []\n",
    "    while queue:\n",
    "        level_size = len(queue)\n",
    "        max_val = float('-inf')\n",
    "\n",
    "        for _ in range(level_size):\n",
    "            current_node = queue.popleft()\n",
    "            max_val = max(max_val,current_node.val)\n",
    "            for child in current_node.children:\n",
    "                queue.append(child)\n",
    "        largest_level.append(max_val)\n",
    "        \n",
    "    return largest_level"
   ]
  }
 ],
 "metadata": {
  "kernelspec": {
   "display_name": "Python 3",
   "language": "python",
   "name": "python3"
  },
  "language_info": {
   "codemirror_mode": {
    "name": "ipython",
    "version": 3
   },
   "file_extension": ".py",
   "mimetype": "text/x-python",
   "name": "python",
   "nbconvert_exporter": "python",
   "pygments_lexer": "ipython3",
   "version": "3.13.7"
  }
 },
 "nbformat": 4,
 "nbformat_minor": 5
}
