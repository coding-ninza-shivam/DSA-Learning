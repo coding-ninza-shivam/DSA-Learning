{
 "cells": [
  {
   "cell_type": "code",
   "execution_count": 9,
   "id": "1b048654",
   "metadata": {},
   "outputs": [],
   "source": [
    "class TreeNode:\n",
    "    def __init__(self,data):\n",
    "        self.data = data\n",
    "        self.children = []"
   ]
  },
  {
   "cell_type": "code",
   "execution_count": 10,
   "id": "d2ca15ef",
   "metadata": {},
   "outputs": [
    {
     "name": "stdout",
     "output_type": "stream",
     "text": [
      "2\n"
     ]
    }
   ],
   "source": [
    "root = TreeNode(1)\n",
    "child1= TreeNode(2)\n",
    "child2= TreeNode(3)\n",
    "child3= TreeNode(4)\n",
    "\n",
    "root.children.append(child1)\n",
    "root.children.append(child2)\n",
    "root.children.append(child3)\n",
    "\n",
    "print(root.children[0].data)"
   ]
  },
  {
   "cell_type": "code",
   "execution_count": 11,
   "id": "63c63d9a",
   "metadata": {},
   "outputs": [],
   "source": [
    "def print_tree(root):\n",
    "    if root==None: # Edge case not a base case\n",
    "        return\n",
    "    print(root.data)\n",
    "    for each_child in root.children:\n",
    "        print_tree(each_child)"
   ]
  },
  {
   "cell_type": "code",
   "execution_count": 12,
   "id": "dce97ebd",
   "metadata": {},
   "outputs": [
    {
     "name": "stdout",
     "output_type": "stream",
     "text": [
      "1\n",
      "2\n",
      "3\n",
      "4\n"
     ]
    }
   ],
   "source": [
    "print_tree(root)"
   ]
  },
  {
   "cell_type": "markdown",
   "id": "357ed87a",
   "metadata": {},
   "source": [
    "Here problem is that we do not that the tree printed is unique"
   ]
  },
  {
   "cell_type": "code",
   "execution_count": 13,
   "id": "59294330",
   "metadata": {},
   "outputs": [],
   "source": [
    "def print_tree_detailed(root):\n",
    "    if root is None: # Edge Case\n",
    "        return\n",
    "    print(root.data,end=\":\")\n",
    "    for eachChild in root.children:\n",
    "        print(eachChild.data, end=\",\")\n",
    "    print()\n",
    "    for eachChild in root.children:\n",
    "        print_tree_detailed(eachChild)"
   ]
  },
  {
   "cell_type": "code",
   "execution_count": 14,
   "id": "f28b8e4b",
   "metadata": {},
   "outputs": [
    {
     "name": "stdout",
     "output_type": "stream",
     "text": [
      "1:2,3,4,\n",
      "2:\n",
      "3:\n",
      "4:\n"
     ]
    }
   ],
   "source": [
    "print_tree_detailed(root)"
   ]
  },
  {
   "cell_type": "code",
   "execution_count": 15,
   "id": "0a7b8e68",
   "metadata": {},
   "outputs": [
    {
     "name": "stdout",
     "output_type": "stream",
     "text": [
      "1:2,3,\n",
      "2:\n",
      "3:\n"
     ]
    }
   ],
   "source": [
    "def take_input(): # travelling DSF\n",
    "    data = int(input(\"Enter the data of the node. \"))\n",
    "    node = TreeNode(data)\n",
    "    num_child = int(input(f\"Enter the number of child for {data}: \"))\n",
    "    for _ in range(num_child):\n",
    "        child = take_input()\n",
    "        node.children.append(child)\n",
    "    return node\n",
    "root = take_input()\n",
    "print_tree_detailed(root)\n"
   ]
  },
  {
   "cell_type": "code",
   "execution_count": 18,
   "id": "b80a906c",
   "metadata": {},
   "outputs": [],
   "source": [
    "from collections import deque\n",
    "def take_input_levelwise(): # Travelling BSF\n",
    "    data = int(input(\"Enter the root data: \"))\n",
    "    root = TreeNode(data)\n",
    "    queue = deque([root])\n",
    "    while queue:\n",
    "        current_node = queue.popleft()\n",
    "        num_childeren = int(input(f\"Enter the number of children for {current_node.data} : \"))\n",
    "        for i in range(num_childeren):\n",
    "            child_data = int(input(f\"Enter the data for child number {i+1} of node {current_node.data} : \"))\n",
    "            child_node = TreeNode(child_data)\n",
    "            current_node.children.append(child_node)\n",
    "            queue.append(child_node)\n",
    "    return root"
   ]
  },
  {
   "cell_type": "code",
   "execution_count": null,
   "id": "e3319c83",
   "metadata": {},
   "outputs": [
    {
     "name": "stdout",
     "output_type": "stream",
     "text": [
      "1:2,3,4,\n",
      "2:\n",
      "3:5,6,\n",
      "5:\n",
      "6:\n",
      "4:\n"
     ]
    }
   ],
   "source": [
    "my_root = take_input_levelwise()\n",
    "print_tree_detailed(my_root)"
   ]
  },
  {
   "cell_type": "code",
   "execution_count": 22,
   "id": "4ed52e54",
   "metadata": {},
   "outputs": [],
   "source": [
    "def count_nodes(root):\n",
    "    if root is None:\n",
    "        return 0\n",
    "    number_of_nodes = 1\n",
    "    for each_child in root.children:\n",
    "        number_of_nodes = number_of_nodes + count_nodes(each_child)\n",
    "    return number_of_nodes \n"
   ]
  },
  {
   "cell_type": "code",
   "execution_count": 23,
   "id": "3684f7df",
   "metadata": {},
   "outputs": [
    {
     "data": {
      "text/plain": [
       "6"
      ]
     },
     "execution_count": 23,
     "metadata": {},
     "output_type": "execute_result"
    }
   ],
   "source": [
    "count_nodes(my_root)"
   ]
  },
  {
   "cell_type": "code",
   "execution_count": null,
   "id": "a4d0f071",
   "metadata": {},
   "outputs": [],
   "source": [
    "def count_height_tree(root): # our leval is gonna start from 1 not 0 \n",
    "    if root is None:\n",
    "        return 0\n",
    "    height = 1\n",
    "    max_child_height = 0\n",
    "    for each_child in root.children:\n",
    "        max_child_height = max(max_child_height, count_height_tree(each_child) )\n",
    "\n",
    "    height = height+max_child_height\n",
    "\n",
    "    return height"
   ]
  },
  {
   "cell_type": "code",
   "execution_count": null,
   "id": "d9098d80",
   "metadata": {},
   "outputs": [],
   "source": []
  },
  {
   "cell_type": "code",
   "execution_count": null,
   "id": "81c98d16",
   "metadata": {},
   "outputs": [],
   "source": []
  },
  {
   "cell_type": "code",
   "execution_count": null,
   "id": "a7c5e1ba",
   "metadata": {},
   "outputs": [],
   "source": []
  },
  {
   "cell_type": "code",
   "execution_count": null,
   "id": "6b3e2828",
   "metadata": {},
   "outputs": [],
   "source": []
  },
  {
   "cell_type": "code",
   "execution_count": null,
   "id": "2a021fec",
   "metadata": {},
   "outputs": [],
   "source": []
  },
  {
   "cell_type": "code",
   "execution_count": null,
   "id": "80154dfd",
   "metadata": {},
   "outputs": [],
   "source": []
  },
  {
   "cell_type": "code",
   "execution_count": null,
   "id": "cde3dcb3",
   "metadata": {},
   "outputs": [],
   "source": []
  },
  {
   "cell_type": "code",
   "execution_count": null,
   "id": "b372810c",
   "metadata": {},
   "outputs": [],
   "source": []
  },
  {
   "cell_type": "code",
   "execution_count": null,
   "id": "f378bab5",
   "metadata": {},
   "outputs": [],
   "source": []
  },
  {
   "cell_type": "code",
   "execution_count": null,
   "id": "618f5771",
   "metadata": {},
   "outputs": [],
   "source": []
  },
  {
   "cell_type": "code",
   "execution_count": null,
   "id": "e9dae455",
   "metadata": {},
   "outputs": [],
   "source": []
  }
 ],
 "metadata": {
  "kernelspec": {
   "display_name": "Python 3",
   "language": "python",
   "name": "python3"
  },
  "language_info": {
   "codemirror_mode": {
    "name": "ipython",
    "version": 3
   },
   "file_extension": ".py",
   "mimetype": "text/x-python",
   "name": "python",
   "nbconvert_exporter": "python",
   "pygments_lexer": "ipython3",
   "version": "3.13.7"
  }
 },
 "nbformat": 4,
 "nbformat_minor": 5
}
