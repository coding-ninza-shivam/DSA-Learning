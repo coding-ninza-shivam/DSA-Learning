{
 "cells": [
  {
   "cell_type": "markdown",
   "id": "09bf49c1",
   "metadata": {},
   "source": [
    "## Binary Tree"
   ]
  },
  {
   "cell_type": "code",
   "execution_count": 1,
   "id": "08c17682",
   "metadata": {},
   "outputs": [],
   "source": [
    "class BinaryTreeNode:\n",
    "    def __init__(self,data):\n",
    "        self.data = data\n",
    "        self.right = None\n",
    "        self.left = None"
   ]
  },
  {
   "cell_type": "code",
   "execution_count": 2,
   "id": "e89ea2b9",
   "metadata": {},
   "outputs": [],
   "source": [
    "root = BinaryTreeNode(1)\n",
    "root.left = BinaryTreeNode(2)\n",
    "root.right = BinaryTreeNode(3)"
   ]
  },
  {
   "cell_type": "code",
   "execution_count": 3,
   "id": "b86cbcb4",
   "metadata": {},
   "outputs": [],
   "source": [
    "def print_BT(root):\n",
    "    if root is None: # Base case not an edge case\n",
    "        return\n",
    "    print(root.data, end=\": \")\n",
    "\n",
    "    if root.left is not None:\n",
    "        print(f\"L:-> {root.left.data}\", end=\" \")\n",
    "    else:\n",
    "        print(\"L:-> None \", end=\" \")\n",
    "    if root.right is not None:\n",
    "        print(f\"R:-> {root.right.data}\")\n",
    "    else:\n",
    "        print(\"R:-> None \")\n",
    "\n",
    "    print_BT(root.left)\n",
    "    print_BT(root.right)\n",
    "    "
   ]
  },
  {
   "cell_type": "code",
   "execution_count": 4,
   "id": "4c5aefb4",
   "metadata": {},
   "outputs": [
    {
     "name": "stdout",
     "output_type": "stream",
     "text": [
      "1: L:-> 2 R:-> 3\n",
      "2: L:-> None  R:-> None \n",
      "3: L:-> None  R:-> None \n"
     ]
    }
   ],
   "source": [
    "print_BT(root)"
   ]
  },
  {
   "cell_type": "code",
   "execution_count": 5,
   "id": "6d479194",
   "metadata": {},
   "outputs": [
    {
     "name": "stdout",
     "output_type": "stream",
     "text": [
      "Enter the Binary Tree data (-1 for no node): \n"
     ]
    },
    {
     "name": "stderr",
     "output_type": "stream",
     "text": [
      "<>:3: SyntaxWarning: \"is\" with 'int' literal. Did you mean \"==\"?\n",
      "C:\\Users\\SHIVAM KUMAR\\AppData\\Local\\Temp\\ipykernel_10108\\1418506602.py:3: SyntaxWarning: \"is\" with 'int' literal. Did you mean \"==\"?\n",
      "  if data is -1:\n"
     ]
    },
    {
     "name": "stdout",
     "output_type": "stream",
     "text": [
      "Enter the left child of 1\n",
      "Enter the left child of 2\n",
      "Enter the left child of 4\n",
      "Enter the right child of 4\n",
      "Enter the right child of 2\n",
      "Enter the right child of 1\n",
      "Enter the left child of 3\n",
      "Enter the left child of 5\n",
      "Enter the right child of 5\n",
      "Enter the right child of 3\n",
      "Enter the left child of 6\n",
      "Enter the right child of 6\n"
     ]
    }
   ],
   "source": [
    "def take_input_BT():\n",
    "    data = int(input(\"Enter the data for the node(-1 for no node): \")) \n",
    "    if data is -1:\n",
    "        return  None\n",
    "    node = BinaryTreeNode(data)\n",
    "    print(f\"Enter the left child of {data}\")\n",
    "    node.left = take_input_BT()\n",
    "    print(f\"Enter the right child of {data}\")\n",
    "    node.right = take_input_BT()\n",
    "    return node\n",
    "print(\"Enter the Binary Tree data (-1 for no node): \")\n",
    "root = take_input_BT()"
   ]
  },
  {
   "cell_type": "code",
   "execution_count": 11,
   "id": "bdc4b53e",
   "metadata": {},
   "outputs": [],
   "source": [
    "from collections import deque\n",
    "def take_input_BT_levelwise():\n",
    "    data = int(input(\"Enter the data for the root: \"))\n",
    "    if data == -1:\n",
    "        return None\n",
    "    root = BinaryTreeNode(data)\n",
    "    queue = deque([root])\n",
    "    while not queue:\n",
    "        current_node = queue.popleft()\n",
    "        left_child_data = int(input(f\"Enter left child for {current_node.data} : \"))\n",
    "        if left_child_data != -1:\n",
    "            left_node = BinaryTreeNode(left_child_data)\n",
    "            current_node.left = left_node\n",
    "            queue.append(left_node)\n",
    "\n",
    "        right_child_data = int(input(f\"Enter right child for {current_node.data} : \"))\n",
    "        if right_child_data != -1:\n",
    "            right_node = BinaryTreeNode(right_child_data)\n",
    "            current_node.right = right_node\n",
    "            queue.append(right_node)\n",
    "\n",
    "    return root"
   ]
  },
  {
   "cell_type": "code",
   "execution_count": 14,
   "id": "47585701",
   "metadata": {},
   "outputs": [],
   "source": [
    "from collections import deque \n",
    "def print_BT_levelwise(root):\n",
    "    if root is None:\n",
    "        return None\n",
    "    queue = deque([root])\n",
    "    while queue:\n",
    "        current_node = queue.popleft()\n",
    "        left_data = current_node.left.data if current_node.left else \"None\"\n",
    "        right_data = current_node.right.data if current_node.right else \"None\"\n",
    "        print(f\"Node: {current_node.data} L->{left_data} R->{right_data}\")\n",
    "        if current_node.left():\n",
    "            queue.append(current_node.left)\n",
    "        if current_node.right():\n",
    "            queue.append(current_node.right)            "
   ]
  },
  {
   "cell_type": "code",
   "execution_count": null,
   "id": "5bb4ee49",
   "metadata": {},
   "outputs": [],
   "source": []
  },
  {
   "cell_type": "code",
   "execution_count": null,
   "id": "ad569c9e",
   "metadata": {},
   "outputs": [],
   "source": []
  }
 ],
 "metadata": {
  "kernelspec": {
   "display_name": "Python 3",
   "language": "python",
   "name": "python3"
  },
  "language_info": {
   "codemirror_mode": {
    "name": "ipython",
    "version": 3
   },
   "file_extension": ".py",
   "mimetype": "text/x-python",
   "name": "python",
   "nbconvert_exporter": "python",
   "pygments_lexer": "ipython3",
   "version": "3.13.7"
  }
 },
 "nbformat": 4,
 "nbformat_minor": 5
}
