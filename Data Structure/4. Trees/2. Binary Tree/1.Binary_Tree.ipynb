{
 "cells": [
  {
   "cell_type": "markdown",
   "id": "09bf49c1",
   "metadata": {},
   "source": [
    "## Binary Tree"
   ]
  },
  {
   "cell_type": "code",
   "execution_count": 2,
   "id": "08c17682",
   "metadata": {},
   "outputs": [],
   "source": [
    "class BinaryTreeNode:\n",
    "    def __init__(self,data):\n",
    "        self.data = data\n",
    "        self.right = None\n",
    "        self.left = None"
   ]
  },
  {
   "cell_type": "code",
   "execution_count": 3,
   "id": "e89ea2b9",
   "metadata": {},
   "outputs": [],
   "source": [
    "root = BinaryTreeNode(1)\n",
    "root.left = BinaryTreeNode(2)\n",
    "root.right = BinaryTreeNode(3)"
   ]
  },
  {
   "cell_type": "code",
   "execution_count": 6,
   "id": "b86cbcb4",
   "metadata": {},
   "outputs": [],
   "source": [
    "def print_BT(root):\n",
    "    if root is None: # Base case not an edge case\n",
    "        return\n",
    "    print(root.data, end=\": \")\n",
    "\n",
    "    if root.left is not None:\n",
    "        print(f\"L:-> {root.left.data}\", end=\" \")\n",
    "    else:\n",
    "        print(\"L:-> None \", end=\" \")\n",
    "    if root.right is not None:\n",
    "        print(f\"R:-> {root.right.data}\")\n",
    "    else:\n",
    "        print(\"R:-> None \")\n",
    "\n",
    "    print_BT(root.left)\n",
    "    print_BT(root.right)\n",
    "    "
   ]
  },
  {
   "cell_type": "code",
   "execution_count": 7,
   "id": "4c5aefb4",
   "metadata": {},
   "outputs": [
    {
     "name": "stdout",
     "output_type": "stream",
     "text": [
      "1: L:-> 2 R:-> 3\n",
      "2: L:-> None  R:-> None \n",
      "3: L:-> None  R:-> None \n"
     ]
    }
   ],
   "source": [
    "print_BT(root)"
   ]
  },
  {
   "cell_type": "code",
   "execution_count": null,
   "id": "6d479194",
   "metadata": {},
   "outputs": [],
   "source": [
    "def take_input_BT():\n",
    "    root = int(input(\"Enter the Root of the tree:\")) "
   ]
  },
  {
   "cell_type": "code",
   "execution_count": null,
   "id": "bdc4b53e",
   "metadata": {},
   "outputs": [],
   "source": []
  },
  {
   "cell_type": "code",
   "execution_count": null,
   "id": "47585701",
   "metadata": {},
   "outputs": [],
   "source": []
  },
  {
   "cell_type": "code",
   "execution_count": null,
   "id": "5bb4ee49",
   "metadata": {},
   "outputs": [],
   "source": []
  },
  {
   "cell_type": "code",
   "execution_count": null,
   "id": "ad569c9e",
   "metadata": {},
   "outputs": [],
   "source": []
  }
 ],
 "metadata": {
  "kernelspec": {
   "display_name": "Python 3",
   "language": "python",
   "name": "python3"
  },
  "language_info": {
   "codemirror_mode": {
    "name": "ipython",
    "version": 3
   },
   "file_extension": ".py",
   "mimetype": "text/x-python",
   "name": "python",
   "nbconvert_exporter": "python",
   "pygments_lexer": "ipython3",
   "version": "3.13.7"
  }
 },
 "nbformat": 4,
 "nbformat_minor": 5
}
