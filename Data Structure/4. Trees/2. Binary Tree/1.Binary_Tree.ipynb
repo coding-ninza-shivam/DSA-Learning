{
 "cells": [
  {
   "cell_type": "markdown",
   "id": "09bf49c1",
   "metadata": {},
   "source": [
    "## Binary Tree"
   ]
  },
  {
   "cell_type": "code",
   "execution_count": 1,
   "id": "08c17682",
   "metadata": {},
   "outputs": [],
   "source": [
    "class BinaryTreeNode:\n",
    "    def __init__(self,data):\n",
    "        self.data = data\n",
    "        self.right = None\n",
    "        self.left = None"
   ]
  },
  {
   "cell_type": "code",
   "execution_count": 2,
   "id": "e89ea2b9",
   "metadata": {},
   "outputs": [],
   "source": [
    "root = BinaryTreeNode(1)\n",
    "root.left = BinaryTreeNode(2)\n",
    "root.right = BinaryTreeNode(3)"
   ]
  },
  {
   "cell_type": "code",
   "execution_count": null,
   "id": "b86cbcb4",
   "metadata": {},
   "outputs": [],
   "source": [
    "def print_BT(root):\n",
    "    if root is None: # Base case not an edge case\n",
    "        return\n",
    "    print(root.data, end=\": \")\n",
    "    \n",
    "    if root.left is not None:\n",
    "        print(f\"L:-> {root.left.data}\", end=\" \")\n",
    "    else:\n",
    "        print(\"L:-> None \", end=\" \")\n",
    "    if root.right is not None:\n",
    "        print(f\"R:-> {root.right.data}\")\n",
    "    else:\n",
    "        print(\"R:-> None \")\n",
    "\n",
    "    print_BT(root.left)\n",
    "    print_BT(root.right)\n",
    "    "
   ]
  },
  {
   "cell_type": "code",
   "execution_count": 4,
   "id": "4c5aefb4",
   "metadata": {},
   "outputs": [
    {
     "name": "stdout",
     "output_type": "stream",
     "text": [
      "1: L:-> 2 R:-> 3\n",
      "2: L:-> None  R:-> None \n",
      "3: L:-> None  R:-> None \n"
     ]
    }
   ],
   "source": [
    "print_BT(root)"
   ]
  },
  {
   "cell_type": "code",
   "execution_count": 7,
   "id": "6d479194",
   "metadata": {},
   "outputs": [
    {
     "name": "stdout",
     "output_type": "stream",
     "text": [
      "Enter the Binary Tree data (-1 for no node): \n"
     ]
    },
    {
     "name": "stderr",
     "output_type": "stream",
     "text": [
      "<>:3: SyntaxWarning: \"is\" with 'int' literal. Did you mean \"==\"?\n",
      "C:\\Users\\SHIVAM KUMAR\\AppData\\Local\\Temp\\ipykernel_8576\\1418506602.py:3: SyntaxWarning: \"is\" with 'int' literal. Did you mean \"==\"?\n",
      "  if data is -1:\n"
     ]
    },
    {
     "name": "stdout",
     "output_type": "stream",
     "text": [
      "Enter the left child of 1\n",
      "Enter the left child of 2\n",
      "Enter the left child of 3\n",
      "Enter the right child of 3\n",
      "Enter the right child of 2\n",
      "Enter the right child of 1\n"
     ]
    }
   ],
   "source": [
    "def take_input_BT():\n",
    "    data = int(input(\"Enter the data for the node(-1 for no node): \")) \n",
    "    if data is -1:\n",
    "        return  None\n",
    "    node = BinaryTreeNode(data)\n",
    "    print(f\"Enter the left child of {data}\")\n",
    "    node.left = take_input_BT()\n",
    "    print(f\"Enter the right child of {data}\")\n",
    "    node.right = take_input_BT()\n",
    "    return node\n",
    "print(\"Enter the Binary Tree data (-1 for no node): \")\n",
    "root = take_input_BT()"
   ]
  },
  {
   "cell_type": "code",
   "execution_count": 8,
   "id": "bdc4b53e",
   "metadata": {},
   "outputs": [],
   "source": [
    "from collections import deque\n",
    "def take_input_BT_levelwise():\n",
    "    data = int(input(\"Enter the data for the root: \"))\n",
    "    if data == -1:\n",
    "        return None\n",
    "    root = BinaryTreeNode(data)\n",
    "    queue = deque([root])\n",
    "    while not queue:\n",
    "        current_node = queue.popleft()\n",
    "        left_child_data = int(input(f\"Enter left child for {current_node.data} : \"))\n",
    "        if left_child_data != -1:\n",
    "            left_node = BinaryTreeNode(left_child_data)\n",
    "            current_node.left = left_node\n",
    "            queue.append(left_node)\n",
    "\n",
    "        right_child_data = int(input(f\"Enter right child for {current_node.data} : \"))\n",
    "        if right_child_data != -1:\n",
    "            right_node = BinaryTreeNode(right_child_data)\n",
    "            current_node.right = right_node\n",
    "            queue.append(right_node)\n",
    "\n",
    "    return root"
   ]
  },
  {
   "cell_type": "code",
   "execution_count": 9,
   "id": "47585701",
   "metadata": {},
   "outputs": [],
   "source": [
    "from collections import deque \n",
    "def print_BT_levelwise(root):\n",
    "    if root is None:\n",
    "        return None\n",
    "    queue = deque([root])\n",
    "    while queue:\n",
    "        current_node = queue.popleft()\n",
    "        left_data = current_node.left.data if current_node.left else \"None\"\n",
    "        right_data = current_node.right.data if current_node.right else \"None\"\n",
    "        print(f\"Node: {current_node.data} L->{left_data} R->{right_data}\")\n",
    "        if current_node.left():\n",
    "            queue.append(current_node.left)\n",
    "        if current_node.right():\n",
    "            queue.append(current_node.right)            "
   ]
  },
  {
   "cell_type": "code",
   "execution_count": 13,
   "id": "8156d9c2",
   "metadata": {},
   "outputs": [],
   "source": [
    "def height(root):\n",
    "    if root is None:\n",
    "        return 0\n",
    "    left_height = height(root.left)\n",
    "    right_height = height(root.right)\n",
    "    height_of_tree = 1 + max(left_height,right_height)\n",
    "    return height_of_tree"
   ]
  },
  {
   "cell_type": "code",
   "execution_count": null,
   "id": "5bb4ee49",
   "metadata": {},
   "outputs": [],
   "source": [
    "def diameter_BT():\n",
    "    if root is None:\n",
    "        return 0\n",
    "    left_height = height(root.left)\n",
    "    right_height = height(root.right)\n",
    "\n",
    "    left_diameter = diameter_BT(root.left)\n",
    "    right_diameter = diameter_BT(root.right)\n",
    "\n",
    "    ans = max(left_diameter,right_diameter,right_height+left_diameter)\n",
    "    return ans\n",
    "    "
   ]
  },
  {
   "cell_type": "code",
   "execution_count": 18,
   "id": "ad569c9e",
   "metadata": {},
   "outputs": [],
   "source": [
    "def diameter_optimized(root):\n",
    "    if root is None:\n",
    "        return 0,0\n",
    "    left_height,left_diameter = diameter_optimized(root.left)\n",
    "    right_height,right_diameter = diameter_optimized(root.right)\n",
    "    diameter_through_root = left_height + right_height\n",
    "    \n",
    "    ans_diameter = max(diameter_through_root,left_diameter,right_diameter)\n",
    "    current_tree_height = 1+max(left_height, right_height)\n",
    "    return current_tree_height, ans_diameter"
   ]
  },
  {
   "cell_type": "code",
   "execution_count": 19,
   "id": "099319b6",
   "metadata": {},
   "outputs": [],
   "source": [
    "def balanced_binary_tree(root):\n",
    "    def check_balance(node):\n",
    "        if node is None:\n",
    "            return 0, True  # height, is_balanced\n",
    "\n",
    "        left_height, left_balanced = check_balance(node.left)\n",
    "        right_height, right_balanced = check_balance(node.right)\n",
    "\n",
    "        current_height = max(left_height, right_height) + 1\n",
    "        is_balanced = (\n",
    "            left_balanced and\n",
    "            right_balanced and\n",
    "            abs(left_height - right_height) <= 1\n",
    "        )\n",
    "\n",
    "        return current_height, is_balanced\n",
    "\n",
    "    _, balanced = check_balance(root)\n",
    "    return balanced"
   ]
  },
  {
   "cell_type": "markdown",
   "id": "7c6f6151",
   "metadata": {},
   "source": [
    "## Traversal in tree"
   ]
  },
  {
   "cell_type": "code",
   "execution_count": 20,
   "id": "ccf3bf2f",
   "metadata": {},
   "outputs": [],
   "source": [
    "# Pre Order Traversal\n",
    "\n",
    "def pre_order_traversal(root):\n",
    "\n",
    "    if(root is None):\n",
    "        return \n",
    "    print( root.data, end=\" \")\n",
    "    pre_order_traversal(root.left)\n",
    "    pre_order_traversal(root.right)"
   ]
  },
  {
   "cell_type": "code",
   "execution_count": null,
   "id": "41c3e181",
   "metadata": {},
   "outputs": [],
   "source": [
    "# Post Order Traversal\n",
    "\n",
    "def post_order_traversal(root):\n",
    "    \n",
    "    if(root is None):\n",
    "        return \n",
    "    pre_order_traversal(root.left)\n",
    "    pre_order_traversal(root.right)\n",
    "    print( root.data, end=\" \")"
   ]
  },
  {
   "cell_type": "code",
   "execution_count": 24,
   "id": "a9c65dc6",
   "metadata": {},
   "outputs": [],
   "source": [
    "# Inorder Traversal\n",
    "\n",
    "def inorder_traversal(root):\n",
    "    if(root is None):\n",
    "        return\n",
    "    inorder_traversal(root.left)\n",
    "    print(root.data,end = \" \")\n",
    "    inorder_traversal(root.right)"
   ]
  },
  {
   "cell_type": "code",
   "execution_count": null,
   "id": "505cb0a4",
   "metadata": {},
   "outputs": [],
   "source": []
  },
  {
   "cell_type": "code",
   "execution_count": null,
   "id": "28617a5f",
   "metadata": {},
   "outputs": [],
   "source": []
  },
  {
   "cell_type": "code",
   "execution_count": null,
   "id": "962b9c37",
   "metadata": {},
   "outputs": [],
   "source": []
  }
 ],
 "metadata": {
  "kernelspec": {
   "display_name": "Python 3",
   "language": "python",
   "name": "python3"
  },
  "language_info": {
   "codemirror_mode": {
    "name": "ipython",
    "version": 3
   },
   "file_extension": ".py",
   "mimetype": "text/x-python",
   "name": "python",
   "nbconvert_exporter": "python",
   "pygments_lexer": "ipython3",
   "version": "3.13.7"
  }
 },
 "nbformat": 4,
 "nbformat_minor": 5
}
